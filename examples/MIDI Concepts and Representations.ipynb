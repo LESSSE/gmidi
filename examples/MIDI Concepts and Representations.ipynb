{
 "cells": [
  {
   "cell_type": "markdown",
   "metadata": {},
   "source": [
    "# MIDI Concepts and Representations"
   ]
  },
  {
   "cell_type": "code",
   "execution_count": 1,
   "metadata": {},
   "outputs": [],
   "source": [
    "import sys\n",
    "import shutil\n",
    "import os\n",
    "import numpy as np\n",
    "import matplotlib as mpl\n",
    "from matplotlib import pyplot as plt"
   ]
  },
  {
   "cell_type": "code",
   "execution_count": 2,
   "metadata": {},
   "outputs": [],
   "source": [
    "import gmidi.midiarray as arrlib\n",
    "import gmidi.pypianoroll as mullib\n",
    "import gmidi.pretty_midi as prelib\n",
    "import mido as fillib\n",
    "import midi as patlib"
   ]
  },
  {
   "cell_type": "markdown",
   "metadata": {},
   "source": [
    "### MIDI Concepts"
   ]
  },
  {
   "cell_type": "markdown",
   "metadata": {},
   "source": [
    "<div style=\"-webkit-column-count: 2; -moz-column-count: 2; column-count: 2; -webkit-column-rule: 1px dotted #e0e0e0; -moz-column-rule: 1px dotted #e0e0e0; column-rule: 1px dotted #e0e0e0;\">\n",
    "    <div style=\"display: inline-block;\">\n",
    "        <h4>Vars</h4><p>(number of)</p>\n",
    "        <ul>\n",
    "          <li>Notes\n",
    "            <ul>\n",
    "              <li>wn - whole note</li>\n",
    "              <li>hn - half note</li>\n",
    "              <li>qn - quarter note</li>\n",
    "              <li>en - 8th note</li>\n",
    "              <li>sn - 16th note</li>\n",
    "              <li>ttn - 32nd note</li>\n",
    "            </ul>\n",
    "          </li>\n",
    "          <li>Time\n",
    "            <ul>\n",
    "              <li>m - minutes</li>\n",
    "              <li>s - seconds</li>\n",
    "              <li>ms - microsecond</li>\n",
    "            </ul>\n",
    "          </li>\n",
    "          <li>Music Related\n",
    "            <ul>\n",
    "              <li>bar - bar</li>\n",
    "              <li>b - beat</li>\n",
    "              <li>c - clock</li>\n",
    "            </ul>\n",
    "          </li>\n",
    "        </ul>\n",
    "    </div>\n",
    "    <div style=\"display: inline-block;\">\n",
    "    </div>\n",
    "    <div style=\"display: inline-block;\">\n",
    "        <h4>Basic Relations</h4>\n",
    "        <ul>\n",
    "          <li>Notes\n",
    "            <ul>\n",
    "              <li>hn = 2 * wn</li>\n",
    "              <li>qn = 2 * hn</li>\n",
    "              <li>en = 2 * qn</li>\n",
    "              <li>sn = 2 * en</li>\n",
    "              <li>ttn = 2 * sn</li>\n",
    "            </ul>\n",
    "          </li>\n",
    "          <li>Time\n",
    "            <ul>\n",
    "              <li>s = 60 * m</li>\n",
    "              <li>ms = 10^6 s</li>\n",
    "            </ul>\n",
    "          </li>\n",
    "        </ul>\n",
    "        \n",
    "    </div>\n",
    "</div>\n",
    "\n",
    "#### MIDI Header\n",
    "_______________________________\n",
    "It defines:\n",
    "\n",
    "* The number of tracks \n",
    "* The ticks per beat parameter\n",
    "* The type of file\n",
    "\n",
    "> **type 0 (single track)**: all messages are saved in one track\n",
    "\n",
    "> **type 1 (synchronous)**: all tracks start at the same time and have the same tempo and time-signature \n",
    "\n",
    "> **type 2 (asynchronous)**: each track is independent of the others\n",
    "\n",
    "________________________\n",
    "#### MIDI times\n",
    "\n",
    "N| Name | Defined at | Form | Common Values |\n",
    "-|--------------------------------------| --- | --- | --- \n",
    "1| Ticks per Beat \t\t\t\t(TPB)\t| Header \t\t\t\t| t = TPB * b\t\t\t| usually TPB = TPQN             \n",
    "2| 32nd Note per Beat \t\t\t(TTNPB)\t| Time Signature Event \t| ttn = TTNPB * b \t\t| usually TTNPB = 8              \n",
    "3| Beat per Minute \t\t\t(BPM)\t    | - \t\t\t\t\t| b = BPM * m \t\t\t|                                \n",
    "4| Tempo \t\t\t\t\t\t(tempo)\t| Tempo Event\t\t\t| ms/b =  60 * 10^6/BPM\t|                                \n",
    "5| Ticks per Quarter Note \t\t(TPQN)\t| - \t\t\t\t\t| t = TPQN * qn \t\t| usually TPQN = TPB             \n",
    "6| Time Signature Numerator\t(TSN)\t    | Time Signature Event \t| bar = (TSD * wn)/TSN\t| 1,2,3,4,6,9,12 most common     \n",
    "7| Time Signature Denominator \t(TSD)\t| Time Signature Event \t| bar = (TSD * wn)/TSN\t| 2,4,8 most common              \n",
    "8| Clicks per Metronome Clock\t(CPMC)\t| Time Signature Event \t| cl = CPMC * c\t        | 24 click per beat             \n",
    "\n",
    "_________________________\n",
    "#### Tracks, Channels, Programs, Voices and Instruments\n",
    "\n",
    "There are three types of MIDI files:\n",
    "\n",
    "* **Track**: a MIDI track is a structure with 16 channels and represents a sequence of MIDI events. The type of MIDI file dictates how these tracks are related to each other. Usually one track is represented by a staff in scores editing softwares.\n",
    "\n",
    "* **Channels**: each channel may have one and only one programm associated at each tick, and most of the MIDI events such as notes 'on' and 'off' events must be associated with one channel. This way in one track we may play different programs by changing the program of one channel along the file or associating notes to different channels with different programs. \n",
    "\n",
    "* **Program**: in standart MIDI there are 128 programs that control the sound generating parameters, but it is possible to have by including banks each one with 128 programs and an event of selecting bank. These programs are identifiers for a set of parameters that control the way a note will sound and are related to the timber.\n",
    "\n",
    "* **Instrument**: 1) most of the score editing tools have instruments structures corresponding to real musical instruments; these are a set of programs that represent different the parameters for the different timbers that those instruments can sound, for example in *Musescore* when one staff is associated with the `Violin` instrument this automatically sets three different programs to three different channels correponding to *arco*, *pizzicato* and *tremolo* programs; 2) a structure developed in pretty_midi package that corresponds to a triple (track,channel,program) and represent a set of notes\n",
    "\n",
    "* **Voice**: in most of the scores editing softwares we have the concept of voice, usually 4 per staff, this concept do not map directly in a MIDI representation, but let us achieve a more readable representation of the sheet and let us associate different voices with different channels which allows us to play different programs within the same track at the same time.\n",
    "\n",
    "\n"
   ]
  },
  {
   "cell_type": "markdown",
   "metadata": {},
   "source": [
    "____________________________________\n",
    "\n",
    "## Defining representations"
   ]
  },
  {
   "cell_type": "code",
   "execution_count": 3,
   "metadata": {},
   "outputs": [],
   "source": [
    "def pretty_save(src,path):\n",
    "    src.write(path)\n",
    "    return path\n",
    "\n",
    "def pretty_load(path,res):\n",
    "    midi_data = prelib.PrettyMIDI(path,resolution=res)\n",
    "    return midi_data\n",
    "\n",
    "pretty_repr = {\"load\": pretty_load, \"save\": pretty_save, \"instance\": prelib.PrettyMIDI()}"
   ]
  },
  {
   "cell_type": "code",
   "execution_count": 4,
   "metadata": {},
   "outputs": [],
   "source": [
    "def change_res_pat(pattern,n_res):\n",
    "        o_res = pattern.resolution\n",
    "        \n",
    "        if o_res == n_res:\n",
    "            return pattern\n",
    "        \n",
    "        frac = n_res/o_res\n",
    "        for t in pattern:\n",
    "            for e in t:\n",
    "                e.tick = int(round(frac*e.tick))\n",
    "        pattern.resolution = n_res\n",
    "\n",
    "        return pattern\n",
    "\n",
    "def pattern_save(src,path):\n",
    "    patlib.write_midifile(path, src)\n",
    "    return path\n",
    "\n",
    "def pattern_load(path,res):\n",
    "    midi_data = patlib.read_midifile(path)\n",
    "    change_res_pat(midi_data,res)\n",
    "    return midi_data\n",
    "\n",
    "pattern_repr = {\"load\": pattern_load, \"save\": pattern_save, \"instance\": patlib.Pattern()}\n"
   ]
  },
  {
   "cell_type": "code",
   "execution_count": 5,
   "metadata": {},
   "outputs": [],
   "source": [
    "def multitrack_save(src,path):\n",
    "    src.write(path)\n",
    "    return path\n",
    "\n",
    "def multitrack_load(path,res):\n",
    "    mul = mullib.Multitrack(beat_resolution=res,name=os.path.basename(path))\n",
    "    pretty = pretty_load(path,res)\n",
    "    mul.parse_pretty_midi(pretty,skip_empty_tracks=False)       \n",
    "    return mul\n",
    "\n",
    "multitrack_repr = {\"load\": multitrack_load, \"save\": multitrack_save, \"instance\": mullib.Multitrack()}\n"
   ]
  },
  {
   "cell_type": "code",
   "execution_count": 6,
   "metadata": {},
   "outputs": [],
   "source": [
    "def midiarray_save(src,path):\n",
    "    src.save(path)\n",
    "    return path\n",
    "\n",
    "def midiarray_load(path,res):\n",
    "    midi_data = arrlib.MidiArray()\n",
    "    midi_data.load(path,res)\n",
    "    return midi_data\n",
    "\n",
    "midiarray_repr = {\"load\": midiarray_load, \"save\": midiarray_save, \"instance\": arrlib.MidiArray()}"
   ]
  },
  {
   "cell_type": "code",
   "execution_count": 7,
   "metadata": {},
   "outputs": [],
   "source": [
    "def change_res_fil(midifile,n_res):\n",
    "        o_res = midifile.ticks_per_beat\n",
    "        \n",
    "        if o_res == n_res:\n",
    "            return midifile\n",
    "        \n",
    "        frac = n_res/o_res\n",
    "        for t in midifile.tracks:\n",
    "            for e in t:\n",
    "                e.time = int(round(frac*e.time))\n",
    "        midifile.ticks_per_beat = n_res\n",
    "\n",
    "        return midifile\n",
    "\n",
    "def midifile_save(src,path):\n",
    "    src.save(path)\n",
    "    return path\n",
    "\n",
    "def midifile_load(path,res):\n",
    "    midi_data = fillib.MidiFile(path)\n",
    "    midi_data = change_res_fil(midi_data,res)\n",
    "    return midi_data\n",
    "\n",
    "midifile_repr = {\"load\": midifile_load, \"save\": midifile_save, \"instance\": fillib.MidiFile()}"
   ]
  },
  {
   "cell_type": "code",
   "execution_count": 8,
   "metadata": {},
   "outputs": [],
   "source": [
    "path = \"samples/\""
   ]
  },
  {
   "cell_type": "markdown",
   "metadata": {},
   "source": [
    "_____________________________________________\n",
    "#### Checking ticks per beat vs ticks per quarter"
   ]
  },
  {
   "cell_type": "code",
   "execution_count": 9,
   "metadata": {},
   "outputs": [
    {
     "name": "stdout",
     "output_type": "stream",
     "text": [
      "2.95\n",
      "2.95\n",
      "Conclusion 'ticks_per_beats' is actually 'ticks_per_quarter_note'\n"
     ]
    }
   ],
   "source": [
    "midifile = midifile_load(path+\"3qs.mid\",480) # -> File of a 3/4 measure with 3 quarters, three beats\n",
    "midifile.ticks_per_beat\n",
    "for track in midifile.tracks:\n",
    "    tick = 0\n",
    "    for event in track:\n",
    "        event.time += tick\n",
    "        tick = event.time\n",
    "    print(tick/midifile.ticks_per_beat)\n",
    "\n",
    "midifile1 = midifile_load(path+\"3qc.mid\",480) # -> File of a 6/8 measure with 3 quarters, two beats\n",
    "midifile1.ticks_per_beat\n",
    "for track in midifile1.tracks:\n",
    "    tick = 0\n",
    "    for event in track:\n",
    "        event.time += tick\n",
    "        tick = event.time\n",
    "    print(tick/midifile1.ticks_per_beat)\n",
    "    \n",
    "print(\"Conclusion 'ticks_per_beats' is actually 'ticks_per_quarter_note'\")"
   ]
  },
  {
   "cell_type": "markdown",
   "metadata": {},
   "source": [
    "______________________________________\n",
    "#### Checking relationship between ticks and time"
   ]
  },
  {
   "cell_type": "code",
   "execution_count": 10,
   "metadata": {},
   "outputs": [],
   "source": [
    "#midifile.ticks2seconds()"
   ]
  },
  {
   "cell_type": "markdown",
   "metadata": {},
   "source": [
    "_________________________________\n",
    "## Loading"
   ]
  },
  {
   "cell_type": "code",
   "execution_count": 11,
   "metadata": {},
   "outputs": [],
   "source": [
    "path1 = path + \"orchestrate.mid\"\n",
    "pretty = pretty_load(path1,48)\n",
    "pattern = pattern_load(path1,48)\n",
    "multitrack = multitrack_load(path1,48)\n",
    "midiarray = midiarray_load(path1,48)\n",
    "midifile = midifile_load(path1,48)"
   ]
  },
  {
   "cell_type": "markdown",
   "metadata": {},
   "source": [
    "##### Checking Some Parameter"
   ]
  },
  {
   "cell_type": "code",
   "execution_count": 12,
   "metadata": {
    "scrolled": true
   },
   "outputs": [
    {
     "data": {
      "text/plain": [
       "(48, 48, 48, 48, 48)"
      ]
     },
     "execution_count": 12,
     "metadata": {},
     "output_type": "execute_result"
    }
   ],
   "source": [
    "pretty.resolution, pattern.resolution, multitrack.beat_resolution, midifile.ticks_per_beat, midiarray.res"
   ]
  },
  {
   "cell_type": "code",
   "execution_count": 13,
   "metadata": {},
   "outputs": [
    {
     "data": {
      "text/plain": [
       "(8, 8, 8, 9, 9)"
      ]
     },
     "execution_count": 13,
     "metadata": {},
     "output_type": "execute_result"
    }
   ],
   "source": [
    "#Intruments and tracks\n",
    "len(pretty.instruments), len(multitrack.tracks), midiarray.array.shape[-1],  len(pattern), len(midifile.tracks)"
   ]
  },
  {
   "cell_type": "markdown",
   "metadata": {},
   "source": [
    "## Checking Parameter Preservation for Saving and Loading"
   ]
  },
  {
   "cell_type": "code",
   "execution_count": 14,
   "metadata": {},
   "outputs": [
    {
     "name": "stdout",
     "output_type": "stream",
     "text": [
      "Resolution:\t|Pretty: 48 \t|Pattern: 48 \t|Multitrack: 48 \t|MidiFile: 48 \t|MidiArray: 48\n",
      "Tr/Instr N:\t|Pretty: 8 \t|Pattern: 9 \t|Multitrack: 8 \t\t|MidiFile: 9 \t|MidiArray: 8\n"
     ]
    }
   ],
   "source": [
    "#Pretty save\n",
    "pathpre = path+\"preo.mid\"\n",
    "pretty_save(pretty,pathpre)\n",
    "pre = pretty_load(pathpre,48)\n",
    "pat = pattern_load(pathpre,48)\n",
    "mul = multitrack_load(pathpre,48)\n",
    "arr = midiarray_load(pathpre,48)\n",
    "fil = midifile_load(pathpre,48)\n",
    "print(\"Resolution:\\t|Pretty:\",pre.resolution, \"\\t|Pattern:\", pat.resolution, \"\\t|Multitrack:\", mul.beat_resolution, \"\\t|MidiFile:\", fil.ticks_per_beat, \"\\t|MidiArray:\", arr.res)\n",
    "print(\"Tr/Instr N:\\t|Pretty:\",len(pre.instruments), \"\\t|Pattern:\", len(pat), \"\\t|Multitrack:\", len(mul.tracks), \"\\t\\t|MidiFile:\", len(fil.tracks), \"\\t|MidiArray:\", arr.array.shape[-1])"
   ]
  },
  {
   "cell_type": "code",
   "execution_count": 15,
   "metadata": {},
   "outputs": [
    {
     "name": "stdout",
     "output_type": "stream",
     "text": [
      "Resolution:\t|Pretty: 48 \t|Pattern: 48 \t|Multitrack: 48 \t|MidiFile: 48 \t|MidiArray: 48\n",
      "Tr/Instr N:\t|Pretty: 8 \t|Pattern: 9 \t|Multitrack: 8 \t\t|MidiFile: 9 \t|MidiArray: 8\n"
     ]
    }
   ],
   "source": [
    "#Pattern Save\n",
    "pathpat = path+\"pato.mid\"\n",
    "pattern_save(pattern,pathpat)\n",
    "pre = pretty_load(pathpat,48)\n",
    "pat = pattern_load(pathpat,48)\n",
    "mul = multitrack_load(pathpat,48)\n",
    "arr = midiarray_load(pathpat,48)\n",
    "fil = midifile_load(pathpat,48)\n",
    "print(\"Resolution:\\t|Pretty:\",pre.resolution, \"\\t|Pattern:\", pat.resolution, \"\\t|Multitrack:\", mul.beat_resolution, \"\\t|MidiFile:\", fil.ticks_per_beat, \"\\t|MidiArray:\", arr.res)\n",
    "print(\"Tr/Instr N:\\t|Pretty:\",len(pre.instruments), \"\\t|Pattern:\", len(pat), \"\\t|Multitrack:\", len(mul.tracks), \"\\t\\t|MidiFile:\", len(fil.tracks), \"\\t|MidiArray:\", arr.array.shape[-1])"
   ]
  },
  {
   "cell_type": "code",
   "execution_count": 16,
   "metadata": {},
   "outputs": [
    {
     "name": "stdout",
     "output_type": "stream",
     "text": [
      "Resolution:\t|Pretty: 48 \t|Pattern: 48 \t|Multitrack: 48 \t|MidiFile: 48 \t|MidiArray: 48\n",
      "Tr/Instr N:\t|Pretty: 8 \t|Pattern: 9 \t|Multitrack: 8 \t\t|MidiFile: 9 \t|MidiArray: 8\n"
     ]
    }
   ],
   "source": [
    "#Multitrack Save\n",
    "pathmul = path+\"mulo.mid\"\n",
    "multitrack_save(multitrack,pathmul)\n",
    "pre = pretty_load(pathmul,48)\n",
    "pat = pattern_load(pathmul,48)\n",
    "mul = multitrack_load(pathmul,48)\n",
    "arr = midiarray_load(pathmul,48)\n",
    "fil = midifile_load(pathmul,48)\n",
    "print(\"Resolution:\\t|Pretty:\",pre.resolution, \"\\t|Pattern:\", pat.resolution, \"\\t|Multitrack:\", mul.beat_resolution, \"\\t|MidiFile:\", fil.ticks_per_beat, \"\\t|MidiArray:\", arr.res)\n",
    "print(\"Tr/Instr N:\\t|Pretty:\",len(pre.instruments), \"\\t|Pattern:\", len(pat), \"\\t|Multitrack:\", len(mul.tracks), \"\\t\\t|MidiFile:\", len(fil.tracks), \"\\t|MidiArray:\", arr.array.shape[-1])"
   ]
  },
  {
   "cell_type": "code",
   "execution_count": 17,
   "metadata": {},
   "outputs": [
    {
     "name": "stdout",
     "output_type": "stream",
     "text": [
      "Resolution:\t|Pretty: 48 \t|Pattern: 48 \t|Multitrack: 48 \t|MidiFile: 48 \t|MidiArray: 48\n",
      "Tr/Instr N:\t|Pretty: 8 \t|Pattern: 9 \t|Multitrack: 8 \t\t|MidiFile: 9 \t|MidiArray: 8\n"
     ]
    }
   ],
   "source": [
    "#Midfile Save\n",
    "pathfil = path+\"filo.mid\"\n",
    "midifile_save(midifile,pathfil)\n",
    "pre = pretty_load(pathfil,48)\n",
    "pat = pattern_load(pathfil,48)\n",
    "mul = multitrack_load(pathfil,48)\n",
    "arr = midiarray_load(pathfil,48)\n",
    "fil = midifile_load(pathfil,48)\n",
    "print(\"Resolution:\\t|Pretty:\",pre.resolution, \"\\t|Pattern:\", pat.resolution, \"\\t|Multitrack:\", mul.beat_resolution, \"\\t|MidiFile:\", fil.ticks_per_beat, \"\\t|MidiArray:\", arr.res)\n",
    "print(\"Tr/Instr N:\\t|Pretty:\",len(pre.instruments), \"\\t|Pattern:\", len(pat), \"\\t|Multitrack:\", len(mul.tracks), \"\\t\\t|MidiFile:\", len(fil.tracks), \"\\t|MidiArray:\", arr.array.shape[-1])"
   ]
  },
  {
   "cell_type": "code",
   "execution_count": 18,
   "metadata": {},
   "outputs": [
    {
     "name": "stdout",
     "output_type": "stream",
     "text": [
      "Resolution:\t|Pretty: 48 \t|Pattern: 48 \t|Multitrack: 48 \t|MidiFile: 48 \t|MidiArray: 48\n",
      "Tr/Instr N:\t|Pretty: 8 \t|Pattern: 9 \t|Multitrack: 8 \t\t|MidiFile: 9 \t|MidiArray: 8\n"
     ]
    }
   ],
   "source": [
    "#Midi Array Save\n",
    "patharr = path+\"arro.mid\"\n",
    "midiarray_save(midiarray,patharr)\n",
    "pre = pretty_load(patharr,48)\n",
    "pat = pattern_load(patharr,48)\n",
    "mul = multitrack_load(patharr,48)\n",
    "arr = midiarray_load(patharr,48)\n",
    "fil = midifile_load(patharr,48)\n",
    "print(\"Resolution:\\t|Pretty:\",pre.resolution, \"\\t|Pattern:\", pat.resolution, \"\\t|Multitrack:\", mul.beat_resolution, \"\\t|MidiFile:\", fil.ticks_per_beat, \"\\t|MidiArray:\", arr.res)\n",
    "print(\"Tr/Instr N:\\t|Pretty:\",len(pre.instruments), \"\\t|Pattern:\", len(pat), \"\\t|Multitrack:\", len(mul.tracks), \"\\t\\t|MidiFile:\", len(fil.tracks), \"\\t|MidiArray:\", arr.array.shape[-1])"
   ]
  }
 ],
 "metadata": {
  "kernelspec": {
   "display_name": "Python 3",
   "language": "python",
   "name": "python3"
  },
  "language_info": {
   "codemirror_mode": {
    "name": "ipython",
    "version": 3
   },
   "file_extension": ".py",
   "mimetype": "text/x-python",
   "name": "python",
   "nbconvert_exporter": "python",
   "pygments_lexer": "ipython3",
   "version": "3.6.6"
  }
 },
 "nbformat": 4,
 "nbformat_minor": 2
}
